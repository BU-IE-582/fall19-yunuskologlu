{
 "cells": [
  {
   "cell_type": "markdown",
   "metadata": {},
   "source": [
    "# Task 1"
   ]
  },
  {
   "cell_type": "markdown",
   "metadata": {},
   "source": [
    "We first implement the required libraries.\n",
    "\n",
    "PS: Preprocessing steps are completed in Excel, and seperate datasets for each task is uploaded into the Github."
   ]
  },
  {
   "cell_type": "code",
   "execution_count": 1,
   "metadata": {},
   "outputs": [],
   "source": [
    "import os\n",
    "import pandas as pd \n",
    "from sklearn.preprocessing import StandardScaler\n",
    "from sklearn.decomposition import PCA\n",
    "import matplotlib.pyplot as plt\n",
    "import numpy as np\n",
    "from pandas import ExcelWriter\n",
    "from pandas import ExcelFile\n",
    "import warnings\n",
    "warnings.filterwarnings(\"ignore\")"
   ]
  },
  {
   "cell_type": "markdown",
   "metadata": {},
   "source": [
    "Then, we locate our file. Lag values are provided in seperate excel files in order to track properly. "
   ]
  },
  {
   "cell_type": "code",
   "execution_count": 2,
   "metadata": {},
   "outputs": [],
   "source": [
    "\n",
    "os.chdir('/Users/yunusutaro/Desktop/Hw 3')\n",
    "xls = pd.ExcelFile('Data_Task_A.xls')\n",
    "dataset = pd.read_excel('Data_Task_A.xls', sheetname=\"Main\")\n",
    "task1_48  = pd.read_excel('Data_Task_A.xls', sheetname=\"Task1_48\")\n",
    "task1_168 = pd.read_excel('Data_Task_A.xls', sheetname=\"Task1_168\")\n",
    "\n",
    "test = dataset.iloc[ 33576:, 2].values\n",
    "\n",
    "task1_48_pred = task1_48.iloc[ 33528:, 2 ].values\n",
    "task1_168_pred = task1_168.iloc[ 33408:, 2 ].values\n",
    "\n"
   ]
  },
  {
   "cell_type": "markdown",
   "metadata": {},
   "source": [
    "We define our Mape Function."
   ]
  },
  {
   "cell_type": "code",
   "execution_count": 3,
   "metadata": {},
   "outputs": [],
   "source": [
    "def mape(y_true, y_pred): \n",
    "    y_true, y_pred = np.array(y_true), np.array(y_pred)\n",
    "    return np.mean(np.abs((y_true - y_pred) / y_true)) * 100\n"
   ]
  },
  {
   "cell_type": "markdown",
   "metadata": {},
   "source": [
    "Then, we calculate the MAPE values for Naive approach. As seen, taking the consumption values of last week results in better predictions, as MAPE is lower."
   ]
  },
  {
   "cell_type": "code",
   "execution_count": 4,
   "metadata": {},
   "outputs": [
    {
     "name": "stdout",
     "output_type": "stream",
     "text": [
      "8.126847983328357 2.8918686527943787\n"
     ]
    }
   ],
   "source": [
    "task1_48_mape = mape(test, task1_48_pred)\n",
    "task1_168_mape = mape(test, task1_168_pred)\n",
    "\n",
    "print(task1_48_mape, task1_168_mape)"
   ]
  },
  {
   "cell_type": "markdown",
   "metadata": {},
   "source": [
    "# Task 2"
   ]
  },
  {
   "cell_type": "markdown",
   "metadata": {},
   "source": [
    "Data preprocessing is completed in a seperate excel file. After the file is uploaded, train and test sets will be defined."
   ]
  },
  {
   "cell_type": "code",
   "execution_count": 5,
   "metadata": {},
   "outputs": [],
   "source": [
    "task2_data = pd.read_excel('Data_Task2.xls', sheetname=\"Sheet0\")\n",
    "\n",
    "task2_x_train = task2_data.iloc[:33408, 2:5].values\n",
    "task2_y_train = task2_data.iloc[:33408,  5].values\n",
    "\n",
    "\n",
    "task2_x_test = task2_data.iloc[33408:, 2:5].values\n"
   ]
  },
  {
   "cell_type": "markdown",
   "metadata": {},
   "source": [
    "For visualization, we display our dataframe:"
   ]
  },
  {
   "cell_type": "code",
   "execution_count": 7,
   "metadata": {},
   "outputs": [
    {
     "data": {
      "text/html": [
       "<div>\n",
       "<style scoped>\n",
       "    .dataframe tbody tr th:only-of-type {\n",
       "        vertical-align: middle;\n",
       "    }\n",
       "\n",
       "    .dataframe tbody tr th {\n",
       "        vertical-align: top;\n",
       "    }\n",
       "\n",
       "    .dataframe thead th {\n",
       "        text-align: right;\n",
       "    }\n",
       "</style>\n",
       "<table border=\"1\" class=\"dataframe\">\n",
       "  <thead>\n",
       "    <tr style=\"text-align: right;\">\n",
       "      <th></th>\n",
       "      <th>Tarih</th>\n",
       "      <th>Saat</th>\n",
       "      <th>Intercept</th>\n",
       "      <th>Lag_48</th>\n",
       "      <th>Lag_168</th>\n",
       "      <th>Tüketim Miktarı (MWh)</th>\n",
       "    </tr>\n",
       "  </thead>\n",
       "  <tbody>\n",
       "    <tr>\n",
       "      <th>0</th>\n",
       "      <td>08.01.2016</td>\n",
       "      <td>00:00</td>\n",
       "      <td>1</td>\n",
       "      <td>29189.27</td>\n",
       "      <td>26277.24</td>\n",
       "      <td>28602.02</td>\n",
       "    </tr>\n",
       "    <tr>\n",
       "      <th>1</th>\n",
       "      <td>08.01.2016</td>\n",
       "      <td>01:00</td>\n",
       "      <td>1</td>\n",
       "      <td>27614.02</td>\n",
       "      <td>24991.82</td>\n",
       "      <td>27112.37</td>\n",
       "    </tr>\n",
       "    <tr>\n",
       "      <th>2</th>\n",
       "      <td>08.01.2016</td>\n",
       "      <td>02:00</td>\n",
       "      <td>1</td>\n",
       "      <td>26578.97</td>\n",
       "      <td>23532.61</td>\n",
       "      <td>25975.34</td>\n",
       "    </tr>\n",
       "    <tr>\n",
       "      <th>3</th>\n",
       "      <td>08.01.2016</td>\n",
       "      <td>03:00</td>\n",
       "      <td>1</td>\n",
       "      <td>25719.19</td>\n",
       "      <td>22464.78</td>\n",
       "      <td>25315.55</td>\n",
       "    </tr>\n",
       "    <tr>\n",
       "      <th>4</th>\n",
       "      <td>08.01.2016</td>\n",
       "      <td>04:00</td>\n",
       "      <td>1</td>\n",
       "      <td>25864.63</td>\n",
       "      <td>22002.91</td>\n",
       "      <td>25128.15</td>\n",
       "    </tr>\n",
       "    <tr>\n",
       "      <th>5</th>\n",
       "      <td>08.01.2016</td>\n",
       "      <td>05:00</td>\n",
       "      <td>1</td>\n",
       "      <td>25918.59</td>\n",
       "      <td>21957.08</td>\n",
       "      <td>25356.22</td>\n",
       "    </tr>\n",
       "    <tr>\n",
       "      <th>6</th>\n",
       "      <td>08.01.2016</td>\n",
       "      <td>06:00</td>\n",
       "      <td>1</td>\n",
       "      <td>27091.94</td>\n",
       "      <td>22203.54</td>\n",
       "      <td>26338.72</td>\n",
       "    </tr>\n",
       "    <tr>\n",
       "      <th>7</th>\n",
       "      <td>08.01.2016</td>\n",
       "      <td>07:00</td>\n",
       "      <td>1</td>\n",
       "      <td>28533.05</td>\n",
       "      <td>21844.16</td>\n",
       "      <td>28086.42</td>\n",
       "    </tr>\n",
       "    <tr>\n",
       "      <th>8</th>\n",
       "      <td>08.01.2016</td>\n",
       "      <td>08:00</td>\n",
       "      <td>1</td>\n",
       "      <td>33203.34</td>\n",
       "      <td>23094.73</td>\n",
       "      <td>32702.24</td>\n",
       "    </tr>\n",
       "    <tr>\n",
       "      <th>9</th>\n",
       "      <td>08.01.2016</td>\n",
       "      <td>09:00</td>\n",
       "      <td>1</td>\n",
       "      <td>36257.22</td>\n",
       "      <td>25202.27</td>\n",
       "      <td>35788.17</td>\n",
       "    </tr>\n",
       "    <tr>\n",
       "      <th>10</th>\n",
       "      <td>08.01.2016</td>\n",
       "      <td>10:00</td>\n",
       "      <td>1</td>\n",
       "      <td>37212.91</td>\n",
       "      <td>27224.96</td>\n",
       "      <td>36843.20</td>\n",
       "    </tr>\n",
       "    <tr>\n",
       "      <th>11</th>\n",
       "      <td>08.01.2016</td>\n",
       "      <td>11:00</td>\n",
       "      <td>1</td>\n",
       "      <td>37844.74</td>\n",
       "      <td>28908.04</td>\n",
       "      <td>37140.00</td>\n",
       "    </tr>\n",
       "    <tr>\n",
       "      <th>12</th>\n",
       "      <td>08.01.2016</td>\n",
       "      <td>12:00</td>\n",
       "      <td>1</td>\n",
       "      <td>36194.13</td>\n",
       "      <td>28789.25</td>\n",
       "      <td>34622.56</td>\n",
       "    </tr>\n",
       "    <tr>\n",
       "      <th>13</th>\n",
       "      <td>08.01.2016</td>\n",
       "      <td>13:00</td>\n",
       "      <td>1</td>\n",
       "      <td>36542.73</td>\n",
       "      <td>29367.70</td>\n",
       "      <td>36134.82</td>\n",
       "    </tr>\n",
       "    <tr>\n",
       "      <th>14</th>\n",
       "      <td>08.01.2016</td>\n",
       "      <td>14:00</td>\n",
       "      <td>1</td>\n",
       "      <td>36847.22</td>\n",
       "      <td>29548.32</td>\n",
       "      <td>36555.58</td>\n",
       "    </tr>\n",
       "    <tr>\n",
       "      <th>15</th>\n",
       "      <td>08.01.2016</td>\n",
       "      <td>15:00</td>\n",
       "      <td>1</td>\n",
       "      <td>36433.88</td>\n",
       "      <td>29390.89</td>\n",
       "      <td>36190.41</td>\n",
       "    </tr>\n",
       "    <tr>\n",
       "      <th>16</th>\n",
       "      <td>08.01.2016</td>\n",
       "      <td>16:00</td>\n",
       "      <td>1</td>\n",
       "      <td>37581.09</td>\n",
       "      <td>30734.97</td>\n",
       "      <td>37031.72</td>\n",
       "    </tr>\n",
       "    <tr>\n",
       "      <th>17</th>\n",
       "      <td>08.01.2016</td>\n",
       "      <td>17:00</td>\n",
       "      <td>1</td>\n",
       "      <td>37304.52</td>\n",
       "      <td>32048.02</td>\n",
       "      <td>37773.70</td>\n",
       "    </tr>\n",
       "    <tr>\n",
       "      <th>18</th>\n",
       "      <td>08.01.2016</td>\n",
       "      <td>18:00</td>\n",
       "      <td>1</td>\n",
       "      <td>35832.00</td>\n",
       "      <td>31438.11</td>\n",
       "      <td>35930.69</td>\n",
       "    </tr>\n",
       "    <tr>\n",
       "      <th>19</th>\n",
       "      <td>08.01.2016</td>\n",
       "      <td>19:00</td>\n",
       "      <td>1</td>\n",
       "      <td>34499.94</td>\n",
       "      <td>30728.47</td>\n",
       "      <td>34710.46</td>\n",
       "    </tr>\n",
       "    <tr>\n",
       "      <th>20</th>\n",
       "      <td>08.01.2016</td>\n",
       "      <td>20:00</td>\n",
       "      <td>1</td>\n",
       "      <td>33670.00</td>\n",
       "      <td>30166.14</td>\n",
       "      <td>33907.65</td>\n",
       "    </tr>\n",
       "    <tr>\n",
       "      <th>21</th>\n",
       "      <td>08.01.2016</td>\n",
       "      <td>21:00</td>\n",
       "      <td>1</td>\n",
       "      <td>32931.12</td>\n",
       "      <td>29461.28</td>\n",
       "      <td>33048.69</td>\n",
       "    </tr>\n",
       "    <tr>\n",
       "      <th>22</th>\n",
       "      <td>08.01.2016</td>\n",
       "      <td>22:00</td>\n",
       "      <td>1</td>\n",
       "      <td>32913.06</td>\n",
       "      <td>29242.83</td>\n",
       "      <td>33220.16</td>\n",
       "    </tr>\n",
       "    <tr>\n",
       "      <th>23</th>\n",
       "      <td>08.01.2016</td>\n",
       "      <td>23:00</td>\n",
       "      <td>1</td>\n",
       "      <td>31450.65</td>\n",
       "      <td>28069.09</td>\n",
       "      <td>32021.60</td>\n",
       "    </tr>\n",
       "    <tr>\n",
       "      <th>24</th>\n",
       "      <td>09.01.2016</td>\n",
       "      <td>00:00</td>\n",
       "      <td>1</td>\n",
       "      <td>28763.95</td>\n",
       "      <td>26224.60</td>\n",
       "      <td>29906.93</td>\n",
       "    </tr>\n",
       "    <tr>\n",
       "      <th>25</th>\n",
       "      <td>09.01.2016</td>\n",
       "      <td>01:00</td>\n",
       "      <td>1</td>\n",
       "      <td>27284.84</td>\n",
       "      <td>24708.58</td>\n",
       "      <td>28061.98</td>\n",
       "    </tr>\n",
       "    <tr>\n",
       "      <th>26</th>\n",
       "      <td>09.01.2016</td>\n",
       "      <td>02:00</td>\n",
       "      <td>1</td>\n",
       "      <td>26321.95</td>\n",
       "      <td>23771.58</td>\n",
       "      <td>26808.78</td>\n",
       "    </tr>\n",
       "    <tr>\n",
       "      <th>27</th>\n",
       "      <td>09.01.2016</td>\n",
       "      <td>03:00</td>\n",
       "      <td>1</td>\n",
       "      <td>25748.49</td>\n",
       "      <td>22921.29</td>\n",
       "      <td>25798.80</td>\n",
       "    </tr>\n",
       "    <tr>\n",
       "      <th>28</th>\n",
       "      <td>09.01.2016</td>\n",
       "      <td>04:00</td>\n",
       "      <td>1</td>\n",
       "      <td>25636.58</td>\n",
       "      <td>22870.89</td>\n",
       "      <td>25820.46</td>\n",
       "    </tr>\n",
       "    <tr>\n",
       "      <th>29</th>\n",
       "      <td>09.01.2016</td>\n",
       "      <td>05:00</td>\n",
       "      <td>1</td>\n",
       "      <td>25932.52</td>\n",
       "      <td>23325.63</td>\n",
       "      <td>26035.77</td>\n",
       "    </tr>\n",
       "    <tr>\n",
       "      <th>...</th>\n",
       "      <td>...</td>\n",
       "      <td>...</td>\n",
       "      <td>...</td>\n",
       "      <td>...</td>\n",
       "      <td>...</td>\n",
       "      <td>...</td>\n",
       "    </tr>\n",
       "    <tr>\n",
       "      <th>33858</th>\n",
       "      <td>19.11.2019</td>\n",
       "      <td>18:00</td>\n",
       "      <td>1</td>\n",
       "      <td>32713.46</td>\n",
       "      <td>37715.88</td>\n",
       "      <td>38759.99</td>\n",
       "    </tr>\n",
       "    <tr>\n",
       "      <th>33859</th>\n",
       "      <td>19.11.2019</td>\n",
       "      <td>19:00</td>\n",
       "      <td>1</td>\n",
       "      <td>32328.16</td>\n",
       "      <td>36612.49</td>\n",
       "      <td>37592.52</td>\n",
       "    </tr>\n",
       "    <tr>\n",
       "      <th>33860</th>\n",
       "      <td>19.11.2019</td>\n",
       "      <td>20:00</td>\n",
       "      <td>1</td>\n",
       "      <td>31906.92</td>\n",
       "      <td>35767.88</td>\n",
       "      <td>36855.44</td>\n",
       "    </tr>\n",
       "    <tr>\n",
       "      <th>33861</th>\n",
       "      <td>19.11.2019</td>\n",
       "      <td>21:00</td>\n",
       "      <td>1</td>\n",
       "      <td>31052.69</td>\n",
       "      <td>34839.60</td>\n",
       "      <td>35835.72</td>\n",
       "    </tr>\n",
       "    <tr>\n",
       "      <th>33862</th>\n",
       "      <td>19.11.2019</td>\n",
       "      <td>22:00</td>\n",
       "      <td>1</td>\n",
       "      <td>30267.47</td>\n",
       "      <td>33775.22</td>\n",
       "      <td>34726.53</td>\n",
       "    </tr>\n",
       "    <tr>\n",
       "      <th>33863</th>\n",
       "      <td>19.11.2019</td>\n",
       "      <td>23:00</td>\n",
       "      <td>1</td>\n",
       "      <td>29553.55</td>\n",
       "      <td>32388.11</td>\n",
       "      <td>33501.29</td>\n",
       "    </tr>\n",
       "    <tr>\n",
       "      <th>33864</th>\n",
       "      <td>20.11.2019</td>\n",
       "      <td>00:00</td>\n",
       "      <td>1</td>\n",
       "      <td>28116.49</td>\n",
       "      <td>30197.64</td>\n",
       "      <td>31320.89</td>\n",
       "    </tr>\n",
       "    <tr>\n",
       "      <th>33865</th>\n",
       "      <td>20.11.2019</td>\n",
       "      <td>01:00</td>\n",
       "      <td>1</td>\n",
       "      <td>26548.46</td>\n",
       "      <td>29020.56</td>\n",
       "      <td>30004.98</td>\n",
       "    </tr>\n",
       "    <tr>\n",
       "      <th>33866</th>\n",
       "      <td>20.11.2019</td>\n",
       "      <td>02:00</td>\n",
       "      <td>1</td>\n",
       "      <td>25821.50</td>\n",
       "      <td>28095.10</td>\n",
       "      <td>28809.52</td>\n",
       "    </tr>\n",
       "    <tr>\n",
       "      <th>33867</th>\n",
       "      <td>20.11.2019</td>\n",
       "      <td>03:00</td>\n",
       "      <td>1</td>\n",
       "      <td>25393.34</td>\n",
       "      <td>27535.46</td>\n",
       "      <td>28006.28</td>\n",
       "    </tr>\n",
       "    <tr>\n",
       "      <th>33868</th>\n",
       "      <td>20.11.2019</td>\n",
       "      <td>04:00</td>\n",
       "      <td>1</td>\n",
       "      <td>25292.96</td>\n",
       "      <td>27529.90</td>\n",
       "      <td>27829.85</td>\n",
       "    </tr>\n",
       "    <tr>\n",
       "      <th>33869</th>\n",
       "      <td>20.11.2019</td>\n",
       "      <td>05:00</td>\n",
       "      <td>1</td>\n",
       "      <td>25552.15</td>\n",
       "      <td>27668.37</td>\n",
       "      <td>28106.04</td>\n",
       "    </tr>\n",
       "    <tr>\n",
       "      <th>33870</th>\n",
       "      <td>20.11.2019</td>\n",
       "      <td>06:00</td>\n",
       "      <td>1</td>\n",
       "      <td>26576.79</td>\n",
       "      <td>28851.41</td>\n",
       "      <td>29069.48</td>\n",
       "    </tr>\n",
       "    <tr>\n",
       "      <th>33871</th>\n",
       "      <td>20.11.2019</td>\n",
       "      <td>07:00</td>\n",
       "      <td>1</td>\n",
       "      <td>28293.12</td>\n",
       "      <td>30397.40</td>\n",
       "      <td>30440.76</td>\n",
       "    </tr>\n",
       "    <tr>\n",
       "      <th>33872</th>\n",
       "      <td>20.11.2019</td>\n",
       "      <td>08:00</td>\n",
       "      <td>1</td>\n",
       "      <td>32810.19</td>\n",
       "      <td>33392.03</td>\n",
       "      <td>33935.24</td>\n",
       "    </tr>\n",
       "    <tr>\n",
       "      <th>33873</th>\n",
       "      <td>20.11.2019</td>\n",
       "      <td>09:00</td>\n",
       "      <td>1</td>\n",
       "      <td>34347.00</td>\n",
       "      <td>34433.87</td>\n",
       "      <td>35403.43</td>\n",
       "    </tr>\n",
       "    <tr>\n",
       "      <th>33874</th>\n",
       "      <td>20.11.2019</td>\n",
       "      <td>10:00</td>\n",
       "      <td>1</td>\n",
       "      <td>34403.73</td>\n",
       "      <td>34162.27</td>\n",
       "      <td>35161.36</td>\n",
       "    </tr>\n",
       "    <tr>\n",
       "      <th>33875</th>\n",
       "      <td>20.11.2019</td>\n",
       "      <td>11:00</td>\n",
       "      <td>1</td>\n",
       "      <td>34615.80</td>\n",
       "      <td>34260.41</td>\n",
       "      <td>34947.47</td>\n",
       "    </tr>\n",
       "    <tr>\n",
       "      <th>33876</th>\n",
       "      <td>20.11.2019</td>\n",
       "      <td>12:00</td>\n",
       "      <td>1</td>\n",
       "      <td>32921.58</td>\n",
       "      <td>32333.79</td>\n",
       "      <td>33053.58</td>\n",
       "    </tr>\n",
       "    <tr>\n",
       "      <th>33877</th>\n",
       "      <td>20.11.2019</td>\n",
       "      <td>13:00</td>\n",
       "      <td>1</td>\n",
       "      <td>33480.88</td>\n",
       "      <td>33005.86</td>\n",
       "      <td>33305.04</td>\n",
       "    </tr>\n",
       "    <tr>\n",
       "      <th>33878</th>\n",
       "      <td>20.11.2019</td>\n",
       "      <td>14:00</td>\n",
       "      <td>1</td>\n",
       "      <td>34591.90</td>\n",
       "      <td>34151.45</td>\n",
       "      <td>34178.26</td>\n",
       "    </tr>\n",
       "    <tr>\n",
       "      <th>33879</th>\n",
       "      <td>20.11.2019</td>\n",
       "      <td>15:00</td>\n",
       "      <td>1</td>\n",
       "      <td>35233.83</td>\n",
       "      <td>34727.71</td>\n",
       "      <td>34570.86</td>\n",
       "    </tr>\n",
       "    <tr>\n",
       "      <th>33880</th>\n",
       "      <td>20.11.2019</td>\n",
       "      <td>16:00</td>\n",
       "      <td>1</td>\n",
       "      <td>36438.00</td>\n",
       "      <td>35416.52</td>\n",
       "      <td>36039.27</td>\n",
       "    </tr>\n",
       "    <tr>\n",
       "      <th>33881</th>\n",
       "      <td>20.11.2019</td>\n",
       "      <td>17:00</td>\n",
       "      <td>1</td>\n",
       "      <td>38275.59</td>\n",
       "      <td>37303.53</td>\n",
       "      <td>38273.40</td>\n",
       "    </tr>\n",
       "    <tr>\n",
       "      <th>33882</th>\n",
       "      <td>20.11.2019</td>\n",
       "      <td>18:00</td>\n",
       "      <td>1</td>\n",
       "      <td>38577.50</td>\n",
       "      <td>37875.89</td>\n",
       "      <td>38633.54</td>\n",
       "    </tr>\n",
       "    <tr>\n",
       "      <th>33883</th>\n",
       "      <td>20.11.2019</td>\n",
       "      <td>19:00</td>\n",
       "      <td>1</td>\n",
       "      <td>37463.81</td>\n",
       "      <td>36826.95</td>\n",
       "      <td>37514.76</td>\n",
       "    </tr>\n",
       "    <tr>\n",
       "      <th>33884</th>\n",
       "      <td>20.11.2019</td>\n",
       "      <td>20:00</td>\n",
       "      <td>1</td>\n",
       "      <td>36451.43</td>\n",
       "      <td>35750.20</td>\n",
       "      <td>36757.13</td>\n",
       "    </tr>\n",
       "    <tr>\n",
       "      <th>33885</th>\n",
       "      <td>20.11.2019</td>\n",
       "      <td>21:00</td>\n",
       "      <td>1</td>\n",
       "      <td>35598.63</td>\n",
       "      <td>34889.02</td>\n",
       "      <td>35798.93</td>\n",
       "    </tr>\n",
       "    <tr>\n",
       "      <th>33886</th>\n",
       "      <td>20.11.2019</td>\n",
       "      <td>22:00</td>\n",
       "      <td>1</td>\n",
       "      <td>34515.02</td>\n",
       "      <td>33698.67</td>\n",
       "      <td>35090.11</td>\n",
       "    </tr>\n",
       "    <tr>\n",
       "      <th>33887</th>\n",
       "      <td>20.11.2019</td>\n",
       "      <td>23:00</td>\n",
       "      <td>1</td>\n",
       "      <td>33041.53</td>\n",
       "      <td>32563.79</td>\n",
       "      <td>33300.20</td>\n",
       "    </tr>\n",
       "  </tbody>\n",
       "</table>\n",
       "<p>33888 rows × 6 columns</p>\n",
       "</div>"
      ],
      "text/plain": [
       "            Tarih   Saat  Intercept    Lag_48   Lag_168  Tüketim Miktarı (MWh)\n",
       "0      08.01.2016  00:00          1  29189.27  26277.24               28602.02\n",
       "1      08.01.2016  01:00          1  27614.02  24991.82               27112.37\n",
       "2      08.01.2016  02:00          1  26578.97  23532.61               25975.34\n",
       "3      08.01.2016  03:00          1  25719.19  22464.78               25315.55\n",
       "4      08.01.2016  04:00          1  25864.63  22002.91               25128.15\n",
       "5      08.01.2016  05:00          1  25918.59  21957.08               25356.22\n",
       "6      08.01.2016  06:00          1  27091.94  22203.54               26338.72\n",
       "7      08.01.2016  07:00          1  28533.05  21844.16               28086.42\n",
       "8      08.01.2016  08:00          1  33203.34  23094.73               32702.24\n",
       "9      08.01.2016  09:00          1  36257.22  25202.27               35788.17\n",
       "10     08.01.2016  10:00          1  37212.91  27224.96               36843.20\n",
       "11     08.01.2016  11:00          1  37844.74  28908.04               37140.00\n",
       "12     08.01.2016  12:00          1  36194.13  28789.25               34622.56\n",
       "13     08.01.2016  13:00          1  36542.73  29367.70               36134.82\n",
       "14     08.01.2016  14:00          1  36847.22  29548.32               36555.58\n",
       "15     08.01.2016  15:00          1  36433.88  29390.89               36190.41\n",
       "16     08.01.2016  16:00          1  37581.09  30734.97               37031.72\n",
       "17     08.01.2016  17:00          1  37304.52  32048.02               37773.70\n",
       "18     08.01.2016  18:00          1  35832.00  31438.11               35930.69\n",
       "19     08.01.2016  19:00          1  34499.94  30728.47               34710.46\n",
       "20     08.01.2016  20:00          1  33670.00  30166.14               33907.65\n",
       "21     08.01.2016  21:00          1  32931.12  29461.28               33048.69\n",
       "22     08.01.2016  22:00          1  32913.06  29242.83               33220.16\n",
       "23     08.01.2016  23:00          1  31450.65  28069.09               32021.60\n",
       "24     09.01.2016  00:00          1  28763.95  26224.60               29906.93\n",
       "25     09.01.2016  01:00          1  27284.84  24708.58               28061.98\n",
       "26     09.01.2016  02:00          1  26321.95  23771.58               26808.78\n",
       "27     09.01.2016  03:00          1  25748.49  22921.29               25798.80\n",
       "28     09.01.2016  04:00          1  25636.58  22870.89               25820.46\n",
       "29     09.01.2016  05:00          1  25932.52  23325.63               26035.77\n",
       "...           ...    ...        ...       ...       ...                    ...\n",
       "33858  19.11.2019  18:00          1  32713.46  37715.88               38759.99\n",
       "33859  19.11.2019  19:00          1  32328.16  36612.49               37592.52\n",
       "33860  19.11.2019  20:00          1  31906.92  35767.88               36855.44\n",
       "33861  19.11.2019  21:00          1  31052.69  34839.60               35835.72\n",
       "33862  19.11.2019  22:00          1  30267.47  33775.22               34726.53\n",
       "33863  19.11.2019  23:00          1  29553.55  32388.11               33501.29\n",
       "33864  20.11.2019  00:00          1  28116.49  30197.64               31320.89\n",
       "33865  20.11.2019  01:00          1  26548.46  29020.56               30004.98\n",
       "33866  20.11.2019  02:00          1  25821.50  28095.10               28809.52\n",
       "33867  20.11.2019  03:00          1  25393.34  27535.46               28006.28\n",
       "33868  20.11.2019  04:00          1  25292.96  27529.90               27829.85\n",
       "33869  20.11.2019  05:00          1  25552.15  27668.37               28106.04\n",
       "33870  20.11.2019  06:00          1  26576.79  28851.41               29069.48\n",
       "33871  20.11.2019  07:00          1  28293.12  30397.40               30440.76\n",
       "33872  20.11.2019  08:00          1  32810.19  33392.03               33935.24\n",
       "33873  20.11.2019  09:00          1  34347.00  34433.87               35403.43\n",
       "33874  20.11.2019  10:00          1  34403.73  34162.27               35161.36\n",
       "33875  20.11.2019  11:00          1  34615.80  34260.41               34947.47\n",
       "33876  20.11.2019  12:00          1  32921.58  32333.79               33053.58\n",
       "33877  20.11.2019  13:00          1  33480.88  33005.86               33305.04\n",
       "33878  20.11.2019  14:00          1  34591.90  34151.45               34178.26\n",
       "33879  20.11.2019  15:00          1  35233.83  34727.71               34570.86\n",
       "33880  20.11.2019  16:00          1  36438.00  35416.52               36039.27\n",
       "33881  20.11.2019  17:00          1  38275.59  37303.53               38273.40\n",
       "33882  20.11.2019  18:00          1  38577.50  37875.89               38633.54\n",
       "33883  20.11.2019  19:00          1  37463.81  36826.95               37514.76\n",
       "33884  20.11.2019  20:00          1  36451.43  35750.20               36757.13\n",
       "33885  20.11.2019  21:00          1  35598.63  34889.02               35798.93\n",
       "33886  20.11.2019  22:00          1  34515.02  33698.67               35090.11\n",
       "33887  20.11.2019  23:00          1  33041.53  32563.79               33300.20\n",
       "\n",
       "[33888 rows x 6 columns]"
      ]
     },
     "execution_count": 7,
     "metadata": {},
     "output_type": "execute_result"
    }
   ],
   "source": [
    "task2_data"
   ]
  },
  {
   "cell_type": "markdown",
   "metadata": {},
   "source": [
    "Then, we fit linear regression into this dataset."
   ]
  },
  {
   "cell_type": "code",
   "execution_count": 10,
   "metadata": {},
   "outputs": [
    {
     "data": {
      "text/plain": [
       "LinearRegression(copy_X=True, fit_intercept=True, n_jobs=None,\n",
       "         normalize=False)"
      ]
     },
     "execution_count": 10,
     "metadata": {},
     "output_type": "execute_result"
    }
   ],
   "source": [
    "from sklearn.linear_model import LinearRegression\n",
    "reg = LinearRegression()\n",
    "reg.fit(task2_x_train, task2_y_train)"
   ]
  },
  {
   "cell_type": "markdown",
   "metadata": {},
   "source": [
    "After fitting, we use predict function to get forecasted values in the test set:"
   ]
  },
  {
   "cell_type": "code",
   "execution_count": 12,
   "metadata": {},
   "outputs": [
    {
     "data": {
      "text/plain": [
       "4.150260145419525"
      ]
     },
     "execution_count": 12,
     "metadata": {},
     "output_type": "execute_result"
    }
   ],
   "source": [
    "task2_mape = mape(test, task2_pred)\n",
    "task2_mape"
   ]
  },
  {
   "cell_type": "markdown",
   "metadata": {},
   "source": [
    "As seen above, fitting linear regression into dataset within given 4.15% error. It is better than using Naive approach wih 48-hour-lag values and worse than using Naive approach with 168-hour-lag values."
   ]
  },
  {
   "cell_type": "markdown",
   "metadata": {},
   "source": [
    "# Task 3"
   ]
  },
  {
   "cell_type": "markdown",
   "metadata": {},
   "source": [
    "In a seperate Excel file, datasets for each hour are generated. The block below imports these datasets, fits linear regression, predicts from the test set features and calculates MAPE for each hour."
   ]
  },
  {
   "cell_type": "code",
   "execution_count": 13,
   "metadata": {},
   "outputs": [],
   "source": [
    "\n",
    "task3_hour_0 = pd.read_excel('Data_Task3.xls', sheetname=\"Hour0\")\n",
    "task3_hour_1 = pd.read_excel('Data_Task3.xls', sheetname=\"Hour1\")\n",
    "task3_hour_2 = pd.read_excel('Data_Task3.xls', sheetname=\"Hour2\")\n",
    "task3_hour_3 = pd.read_excel('Data_Task3.xls', sheetname=\"Hour3\")\n",
    "task3_hour_4 = pd.read_excel('Data_Task3.xls', sheetname=\"Hour4\")\n",
    "task3_hour_5 = pd.read_excel('Data_Task3.xls', sheetname=\"Hour5\")\n",
    "task3_hour_6 = pd.read_excel('Data_Task3.xls', sheetname=\"Hour6\")\n",
    "task3_hour_7 = pd.read_excel('Data_Task3.xls', sheetname=\"Hour7\")\n",
    "task3_hour_8 = pd.read_excel('Data_Task3.xls', sheetname=\"Hour8\")\n",
    "task3_hour_9 = pd.read_excel('Data_Task3.xls', sheetname=\"Hour9\")\n",
    "task3_hour_10 = pd.read_excel('Data_Task3.xls', sheetname=\"Hour10\")\n",
    "task3_hour_11 = pd.read_excel('Data_Task3.xls', sheetname=\"Hour11\")\n",
    "task3_hour_12 = pd.read_excel('Data_Task3.xls', sheetname=\"Hour12\")\n",
    "task3_hour_13 = pd.read_excel('Data_Task3.xls', sheetname=\"Hour13\")\n",
    "task3_hour_14 = pd.read_excel('Data_Task3.xls', sheetname=\"Hour14\")\n",
    "task3_hour_15 = pd.read_excel('Data_Task3.xls', sheetname=\"Hour15\")\n",
    "task3_hour_16 = pd.read_excel('Data_Task3.xls', sheetname=\"Hour16\")\n",
    "task3_hour_17 = pd.read_excel('Data_Task3.xls', sheetname=\"Hour17\")\n",
    "task3_hour_18 = pd.read_excel('Data_Task3.xls', sheetname=\"Hour18\")\n",
    "task3_hour_19 = pd.read_excel('Data_Task3.xls', sheetname=\"Hour19\")\n",
    "task3_hour_20 = pd.read_excel('Data_Task3.xls', sheetname=\"Hour20\")\n",
    "task3_hour_21 = pd.read_excel('Data_Task3.xls', sheetname=\"Hour21\")\n",
    "task3_hour_22 = pd.read_excel('Data_Task3.xls', sheetname=\"Hour22\")\n",
    "task3_hour_23 = pd.read_excel('Data_Task3.xls', sheetname=\"Hour23\")\n",
    "\n",
    "\n",
    "task3_0_x_train = task3_hour_0.iloc[:1392, 2:5].values\n",
    "task3_0_y_train = task3_hour_0.iloc[:1392,  5].values\n",
    "task3_0_x_test  = task3_hour_0.iloc[1392:, 2:5].values\n",
    "task3_0_y_test = task3_hour_0.iloc[1392:, 5].values\n",
    "\n",
    "\n",
    "task3_1_x_train = task3_hour_1.iloc[:1392, 2:5].values\n",
    "task3_1_y_train = task3_hour_1.iloc[:1392,  5].values\n",
    "task3_1_x_test  = task3_hour_1.iloc[1392:, 2:5].values\n",
    "task3_1_y_test = task3_hour_1.iloc[1392:, 5].values\n",
    "\n",
    "\n",
    "\n",
    "task3_2_x_train = task3_hour_2.iloc[:1392, 2:5].values\n",
    "task3_2_y_train = task3_hour_2.iloc[:1392,  5].values\n",
    "task3_2_x_test  = task3_hour_2.iloc[1392:, 2:5].values\n",
    "task3_2_y_test = task3_hour_2.iloc[1392:, 5].values\n",
    "\n",
    "\n",
    "\n",
    "task3_3_x_train = task3_hour_3.iloc[:1392, 2:5].values\n",
    "task3_3_y_train = task3_hour_3.iloc[:1392,  5].values\n",
    "task3_3_x_test  = task3_hour_3.iloc[1392:, 2:5].values\n",
    "task3_3_y_test = task3_hour_3.iloc[1392:, 5].values\n",
    "\n",
    "\n",
    "\n",
    "task3_4_x_train = task3_hour_4.iloc[:1392, 2:5].values\n",
    "task3_4_y_train = task3_hour_4.iloc[:1392,  5].values\n",
    "task3_4_x_test  = task3_hour_4.iloc[1392:, 2:5].values\n",
    "task3_4_y_test = task3_hour_4.iloc[1392:, 5].values\n",
    "\n",
    "\n",
    "\n",
    "task3_5_x_train = task3_hour_5.iloc[:1392, 2:5].values\n",
    "task3_5_y_train = task3_hour_5.iloc[:1392,  5].values\n",
    "task3_5_x_test  = task3_hour_5.iloc[1392:, 2:5].values\n",
    "task3_5_y_test = task3_hour_5.iloc[1392:, 5].values\n",
    "\n",
    "\n",
    "\n",
    "task3_6_x_train = task3_hour_6.iloc[:1392, 2:5].values\n",
    "task3_6_y_train = task3_hour_6.iloc[:1392,  5].values\n",
    "task3_6_x_test  = task3_hour_6.iloc[1392:, 2:5].values\n",
    "task3_6_y_test = task3_hour_6.iloc[1392:, 5].values\n",
    "\n",
    "\n",
    "\n",
    "task3_7_x_train = task3_hour_7.iloc[:1392, 2:5].values\n",
    "task3_7_y_train = task3_hour_7.iloc[:1392,  5].values\n",
    "task3_7_x_test  = task3_hour_7.iloc[1392:, 2:5].values\n",
    "task3_7_y_test = task3_hour_7.iloc[1392:, 5].values\n",
    "\n",
    "\n",
    "\n",
    "task3_8_x_train = task3_hour_8.iloc[:1392, 2:5].values\n",
    "task3_8_y_train = task3_hour_8.iloc[:1392,  5].values\n",
    "task3_8_x_test  = task3_hour_8.iloc[1392:, 2:5].values\n",
    "task3_8_y_test = task3_hour_8.iloc[1392:, 5].values\n",
    "\n",
    "\n",
    "\n",
    "task3_9_x_train = task3_hour_9.iloc[:1392, 2:5].values\n",
    "task3_9_y_train = task3_hour_9.iloc[:1392,  5].values\n",
    "task3_9_x_test  = task3_hour_9.iloc[1392:, 2:5].values\n",
    "task3_9_y_test = task3_hour_9.iloc[1392:, 5].values\n",
    "\n",
    "\n",
    "\n",
    "task3_10_x_train = task3_hour_10.iloc[:1392, 2:5].values\n",
    "task3_10_y_train = task3_hour_10.iloc[:1392,  5].values\n",
    "task3_10_x_test  = task3_hour_10.iloc[1392:, 2:5].values\n",
    "task3_10_y_test = task3_hour_10.iloc[1392:, 5].values\n",
    "\n",
    "\n",
    "\n",
    "task3_11_x_train = task3_hour_11.iloc[:1392, 2:5].values\n",
    "task3_11_y_train = task3_hour_11.iloc[:1392,  5].values\n",
    "task3_11_x_test  = task3_hour_11.iloc[1392:, 2:5].values\n",
    "task3_11_y_test = task3_hour_11.iloc[1392:, 5].values\n",
    "\n",
    "\n",
    "\n",
    "task3_12_x_train = task3_hour_12.iloc[:1392, 2:5].values\n",
    "task3_12_y_train = task3_hour_12.iloc[:1392,  5].values\n",
    "task3_12_x_test  = task3_hour_12.iloc[1392:, 2:5].values\n",
    "task3_12_y_test = task3_hour_12.iloc[1392:, 5].values\n",
    "\n",
    "\n",
    "\n",
    "task3_13_x_train = task3_hour_13.iloc[:1392, 2:5].values\n",
    "task3_13_y_train = task3_hour_13.iloc[:1392,  5].values\n",
    "task3_13_x_test  = task3_hour_13.iloc[1392:, 2:5].values\n",
    "task3_13_y_test = task3_hour_13.iloc[1392:, 5].values\n",
    "\n",
    "\n",
    "\n",
    "task3_14_x_train = task3_hour_14.iloc[:1392, 2:5].values\n",
    "task3_14_y_train = task3_hour_14.iloc[:1392,  5].values\n",
    "task3_14_x_test  = task3_hour_14.iloc[1392:, 2:5].values\n",
    "task3_14_y_test = task3_hour_14.iloc[1392:, 5].values\n",
    "\n",
    "\n",
    "\n",
    "task3_15_x_train = task3_hour_15.iloc[:1392, 2:5].values\n",
    "task3_15_y_train = task3_hour_15.iloc[:1392,  5].values\n",
    "task3_15_x_test  = task3_hour_15.iloc[1392:, 2:5].values\n",
    "task3_15_y_test = task3_hour_15.iloc[1392:, 5].values\n",
    "\n",
    "\n",
    "\n",
    "task3_16_x_train = task3_hour_16.iloc[:1392, 2:5].values\n",
    "task3_16_y_train = task3_hour_16.iloc[:1392,  5].values\n",
    "task3_16_x_test  = task3_hour_16.iloc[1392:, 2:5].values\n",
    "task3_16_y_test = task3_hour_16.iloc[1392:, 5].values\n",
    "\n",
    "\n",
    "\n",
    "task3_17_x_train = task3_hour_17.iloc[:1392, 2:5].values\n",
    "task3_17_y_train = task3_hour_17.iloc[:1392,  5].values\n",
    "task3_17_x_test  = task3_hour_17.iloc[1392:, 2:5].values\n",
    "task3_17_y_test = task3_hour_17.iloc[1392:, 5].values\n",
    "\n",
    "\n",
    "\n",
    "task3_18_x_train = task3_hour_18.iloc[:1392, 2:5].values\n",
    "task3_18_y_train = task3_hour_18.iloc[:1392,  5].values\n",
    "task3_18_x_test  = task3_hour_18.iloc[1392:, 2:5].values\n",
    "task3_18_y_test = task3_hour_18.iloc[1392:, 5].values\n",
    "\n",
    "\n",
    "\n",
    "task3_19_x_train = task3_hour_19.iloc[:1392, 2:5].values\n",
    "task3_19_y_train = task3_hour_19.iloc[:1392,  5].values\n",
    "task3_19_x_test  = task3_hour_19.iloc[1392:, 2:5].values\n",
    "task3_19_y_test = task3_hour_19.iloc[1392:, 5].values\n",
    "\n",
    "\n",
    "\n",
    "task3_20_x_train = task3_hour_20.iloc[:1392, 2:5].values\n",
    "task3_20_y_train = task3_hour_20.iloc[:1392,  5].values\n",
    "task3_20_x_test  = task3_hour_20.iloc[1392:, 2:5].values\n",
    "task3_20_y_test = task3_hour_20.iloc[1392:, 5].values\n",
    "\n",
    "\n",
    "\n",
    "task3_21_x_train = task3_hour_21.iloc[:1392, 2:5].values\n",
    "task3_21_y_train = task3_hour_21.iloc[:1392,  5].values\n",
    "task3_21_x_test  = task3_hour_21.iloc[1392:, 2:5].values\n",
    "task3_21_y_test = task3_hour_21.iloc[1392:, 5].values\n",
    "\n",
    "\n",
    "\n",
    "task3_22_x_train = task3_hour_22.iloc[:1392, 2:5].values\n",
    "task3_22_y_train = task3_hour_22.iloc[:1392,  5].values\n",
    "task3_22_x_test  = task3_hour_22.iloc[1392:, 2:5].values\n",
    "task3_22_y_test = task3_hour_22.iloc[1392:, 5].values\n",
    "\n",
    "\n",
    "\n",
    "task3_23_x_train = task3_hour_23.iloc[:1392, 2:5].values\n",
    "task3_23_y_train = task3_hour_23.iloc[:1392,  5].values\n",
    "task3_23_x_test  = task3_hour_23.iloc[1392:, 2:5].values\n",
    "task3_23_y_test = task3_hour_23.iloc[1392:, 5].values\n",
    "\n",
    "\n",
    "\n",
    "reg.fit(task3_0_x_train, task3_0_y_train)\n",
    "task3_0_pred = reg.predict(task3_0_x_test)\n",
    "task3_0_mape = mape(task3_0_y_test, task3_0_pred)\n",
    "\n",
    "\n",
    "\n",
    "reg.fit(task3_1_x_train, task3_1_y_train)\n",
    "task3_1_pred = reg.predict(task3_1_x_test)\n",
    "task3_1_mape = mape(task3_1_y_test, task3_1_pred)\n",
    "\n",
    "\n",
    "reg.fit(task3_2_x_train, task3_2_y_train)\n",
    "task3_2_pred = reg.predict(task3_2_x_test)\n",
    "task3_2_mape = mape(task3_2_y_test, task3_2_pred)\n",
    "\n",
    "\n",
    "reg.fit(task3_3_x_train, task3_3_y_train)\n",
    "task3_3_pred = reg.predict(task3_3_x_test)\n",
    "task3_3_mape = mape(task3_3_y_test, task3_3_pred)\n",
    "\n",
    "\n",
    "reg.fit(task3_4_x_train, task3_4_y_train)\n",
    "task3_4_pred = reg.predict(task3_4_x_test)\n",
    "task3_4_mape = mape(task3_4_y_test, task3_4_pred)\n",
    "\n",
    "\n",
    "reg.fit(task3_5_x_train, task3_5_y_train)\n",
    "task3_5_pred = reg.predict(task3_5_x_test)\n",
    "task3_5_mape = mape(task3_5_y_test, task3_5_pred)\n",
    "\n",
    "\n",
    "reg.fit(task3_6_x_train, task3_6_y_train)\n",
    "task3_6_pred = reg.predict(task3_6_x_test)\n",
    "task3_6_mape = mape(task3_6_y_test, task3_6_pred)\n",
    "\n",
    "\n",
    "reg.fit(task3_7_x_train, task3_7_y_train)\n",
    "task3_7_pred = reg.predict(task3_7_x_test)\n",
    "task3_7_mape = mape(task3_7_y_test, task3_7_pred)\n",
    "\n",
    "\n",
    "reg.fit(task3_8_x_train, task3_8_y_train)\n",
    "task3_8_pred = reg.predict(task3_8_x_test)\n",
    "task3_8_mape = mape(task3_8_y_test, task3_8_pred)\n",
    "\n",
    "reg.fit(task3_9_x_train, task3_9_y_train)\n",
    "task3_9_pred = reg.predict(task3_9_x_test)\n",
    "task3_9_mape = mape(task3_9_y_test, task3_9_pred)\n",
    "\n",
    "reg.fit(task3_10_x_train, task3_10_y_train)\n",
    "task3_10_pred = reg.predict(task3_10_x_test)\n",
    "task3_10_mape = mape(task3_10_y_test, task3_10_pred)\n",
    "\n",
    "reg.fit(task3_11_x_train, task3_11_y_train)\n",
    "task3_11_pred = reg.predict(task3_11_x_test)\n",
    "task3_11_mape = mape(task3_11_y_test, task3_11_pred)\n",
    "\n",
    "reg.fit(task3_12_x_train, task3_12_y_train)\n",
    "task3_12_pred = reg.predict(task3_12_x_test)\n",
    "task3_12_mape = mape(task3_12_y_test, task3_12_pred)\n",
    "\n",
    "reg.fit(task3_13_x_train, task3_13_y_train)\n",
    "task3_13_pred = reg.predict(task3_13_x_test)\n",
    "task3_13_mape = mape(task3_13_y_test, task3_13_pred)\n",
    "\n",
    "reg.fit(task3_14_x_train, task3_14_y_train)\n",
    "task3_14_pred = reg.predict(task3_14_x_test)\n",
    "task3_14_mape = mape(task3_14_y_test, task3_14_pred)\n",
    "\n",
    "reg.fit(task3_15_x_train, task3_15_y_train)\n",
    "task3_15_pred = reg.predict(task3_15_x_test)\n",
    "task3_15_mape = mape(task3_15_y_test, task3_15_pred)\n",
    "\n",
    "reg.fit(task3_16_x_train, task3_16_y_train)\n",
    "task3_16_pred = reg.predict(task3_16_x_test)\n",
    "task3_16_mape = mape(task3_16_y_test, task3_16_pred)\n",
    "\n",
    "reg.fit(task3_17_x_train, task3_17_y_train)\n",
    "task3_17_pred = reg.predict(task3_17_x_test)\n",
    "task3_17_mape = mape(task3_17_y_test, task3_17_pred)\n",
    "\n",
    "reg.fit(task3_18_x_train, task3_18_y_train)\n",
    "task3_18_pred = reg.predict(task3_18_x_test)\n",
    "task3_18_mape = mape(task3_18_y_test, task3_18_pred)\n",
    "\n",
    "reg.fit(task3_19_x_train, task3_19_y_train)\n",
    "task3_19_pred = reg.predict(task3_19_x_test)\n",
    "task3_19_mape = mape(task3_19_y_test, task3_19_pred)\n",
    "\n",
    "reg.fit(task3_20_x_train, task3_20_y_train)\n",
    "task3_20_pred = reg.predict(task3_20_x_test)\n",
    "task3_20_mape = mape(task3_20_y_test, task3_20_pred)\n",
    "\n",
    "reg.fit(task3_21_x_train, task3_0_y_train)\n",
    "task3_21_pred = reg.predict(task3_21_x_test)\n",
    "task3_21_mape = mape(task3_21_y_test, task3_21_pred)\n",
    "\n",
    "reg.fit(task3_22_x_train, task3_22_y_train)\n",
    "task3_22_pred = reg.predict(task3_22_x_test)\n",
    "task3_22_mape = mape(task3_22_y_test, task3_22_pred)\n",
    "\n",
    "reg.fit(task3_23_x_train, task3_23_y_train)\n",
    "task3_23_pred = reg.predict(task3_23_x_test)\n",
    "task3_23_mape = mape(task3_23_y_test, task3_23_pred)\n"
   ]
  },
  {
   "cell_type": "markdown",
   "metadata": {},
   "source": [
    "Now, we will display the MAPE values for each hour for commenting purposes."
   ]
  },
  {
   "cell_type": "code",
   "execution_count": 15,
   "metadata": {},
   "outputs": [
    {
     "name": "stdout",
     "output_type": "stream",
     "text": [
      "Hour 0 MAPE is: 3.1973275720611998\n",
      "Hour 1 MAPE is: 3.436482648188377\n",
      "Hour 2 MAPE is: 3.4627671158685938\n",
      "Hour 3 MAPE is: 3.4162558868486474\n",
      "Hour 4 MAPE is: 3.336996118573225\n",
      "Hour 5 MAPE is: 3.340161116840354\n",
      "Hour 6 MAPE is: 3.594191034635774\n",
      "Hour 7 MAPE is: 4.091737127175361\n",
      "Hour 8 MAPE is: 4.741452928702325\n",
      "Hour 9 MAPE is: 5.013485358615847\n",
      "Hour 10 MAPE is: 5.192033853197255\n",
      "Hour 11 MAPE is: 5.481133565670347\n",
      "Hour 12 MAPE is: 5.6020895362341685\n",
      "Hour 13 MAPE is: 5.9528145102752195\n",
      "Hour 14 MAPE is: 6.3460954295001955\n",
      "Hour 15 MAPE is: 6.0627849751812155\n",
      "Hour 16 MAPE is: 5.32046392063819\n",
      "Hour 17 MAPE is: 4.6283492570565885\n",
      "Hour 18 MAPE is: 3.7232526034997186\n",
      "Hour 19 MAPE is: 3.3322075331672307\n",
      "Hour 20 MAPE is: 3.262900105178093\n",
      "Hour 21 MAPE is: 11.942057102746517\n",
      "Hour 22 MAPE is: 3.267538594471178\n",
      "Hour 22 MAPE is: 3.267538594471178\n",
      "Hour 23 MAPE is: 3.3038338011446187\n"
     ]
    }
   ],
   "source": [
    "print(\"Hour 0 MAPE is:\", task3_0_mape)\n",
    "print(\"Hour 1 MAPE is:\", task3_1_mape)\n",
    "print(\"Hour 2 MAPE is:\", task3_2_mape)\n",
    "print(\"Hour 3 MAPE is:\", task3_3_mape)\n",
    "print(\"Hour 4 MAPE is:\", task3_4_mape)\n",
    "print(\"Hour 5 MAPE is:\", task3_5_mape)\n",
    "print(\"Hour 6 MAPE is:\", task3_6_mape)\n",
    "print(\"Hour 7 MAPE is:\", task3_7_mape)\n",
    "print(\"Hour 8 MAPE is:\", task3_8_mape)\n",
    "print(\"Hour 9 MAPE is:\", task3_9_mape)\n",
    "print(\"Hour 10 MAPE is:\", task3_10_mape)\n",
    "print(\"Hour 11 MAPE is:\", task3_11_mape)\n",
    "print(\"Hour 12 MAPE is:\", task3_12_mape)\n",
    "print(\"Hour 13 MAPE is:\", task3_13_mape)\n",
    "print(\"Hour 14 MAPE is:\", task3_14_mape)\n",
    "print(\"Hour 15 MAPE is:\", task3_15_mape)\n",
    "print(\"Hour 16 MAPE is:\", task3_16_mape)\n",
    "print(\"Hour 17 MAPE is:\", task3_17_mape)\n",
    "print(\"Hour 18 MAPE is:\", task3_18_mape)\n",
    "print(\"Hour 19 MAPE is:\", task3_19_mape)\n",
    "print(\"Hour 20 MAPE is:\", task3_20_mape)\n",
    "print(\"Hour 21 MAPE is:\", task3_21_mape)\n",
    "print(\"Hour 22 MAPE is:\", task3_22_mape)\n",
    "print(\"Hour 22 MAPE is:\", task3_22_mape)\n",
    "print(\"Hour 23 MAPE is:\", task3_23_mape)\n"
   ]
  },
  {
   "cell_type": "markdown",
   "metadata": {},
   "source": [
    "As seen from the results above; the best results are obtained for hour 0 and the worst results are obtained from Hour 21. Compared to the previous approaches, for most of the hours it is successful compared to forecasting as a whole. Nevertheless, in several hours, the accuracy drops. Thus, it is advisable to use this method for some hours."
   ]
  },
  {
   "cell_type": "markdown",
   "metadata": {},
   "source": [
    "# Task 4"
   ]
  },
  {
   "cell_type": "markdown",
   "metadata": {},
   "source": [
    "I have generated an Excel file containing about the lag values of 168 and 48 hours before. After uploading the xls file, we will transform it using Numpy.Reshape function and get the feature set after appending."
   ]
  },
  {
   "cell_type": "code",
   "execution_count": 16,
   "metadata": {},
   "outputs": [],
   "source": [
    "lag_values_168 = pd.read_excel('lags.xls', sheetname=\"168\").values\n",
    "lag_values_48 = pd.read_excel('lags.xls', sheetname=\"48\").values\n",
    "\n",
    "lag_values_168 = np.reshape(lag_values_168, (1412,24))\n",
    "lag_values_48 = np.reshape(lag_values_48, (1412,24))\n",
    "\n",
    "\n",
    "lag_168_train = lag_values_168[:1392, :]\n",
    "lag_168_test =  lag_values_168[1392:, :]\n",
    "\n",
    "lag_48_train = lag_values_48[:1392, :]\n",
    "lag_48_test =  lag_values_48[1392:, :]\n",
    "\n",
    "\n",
    "task4_train_features = np.append(lag_168_train, lag_48_train, axis = 1)\n",
    "task4_test_features = np.append(lag_168_test, lag_48_test, axis = 1)\n"
   ]
  },
  {
   "cell_type": "markdown",
   "metadata": {},
   "source": [
    "For display purposes;"
   ]
  },
  {
   "cell_type": "code",
   "execution_count": 17,
   "metadata": {},
   "outputs": [
    {
     "data": {
      "text/plain": [
       "array([[26277.24, 24991.82, 23532.61, ..., 33400.82, 33359.37, 31629.97],\n",
       "       [26224.6 , 24708.58, 23771.58, ..., 32931.12, 32913.06, 31450.65],\n",
       "       [27613.96, 25779.28, 24566.31, ..., 32638.14, 32739.98, 31092.87],\n",
       "       ...,\n",
       "       [29195.12, 27677.44, 26826.76, ..., 32309.83, 31391.48, 29833.08],\n",
       "       [29265.74, 27902.58, 27211.54, ..., 30119.7 , 28839.74, 27770.37],\n",
       "       [29351.46, 28195.  , 27269.71, ..., 30864.56, 29650.34, 28315.54]])"
      ]
     },
     "execution_count": 17,
     "metadata": {},
     "output_type": "execute_result"
    }
   ],
   "source": [
    "task4_train_features"
   ]
  },
  {
   "cell_type": "markdown",
   "metadata": {},
   "source": [
    "Then, we insert required libraries for using Lasso. Additionally, we set our Numpy and Python Core seeds to a same number, for reproducibility purposes."
   ]
  },
  {
   "cell_type": "code",
   "execution_count": 18,
   "metadata": {},
   "outputs": [],
   "source": [
    "from sklearn.linear_model import LassoCV\n",
    "from sklearn.linear_model import Lasso\n",
    "from sklearn.model_selection import KFold\n",
    "from sklearn.model_selection import GridSearchCV\n",
    "import random as rn\n",
    "\n",
    "np.random.seed(42)\n",
    "rn.seed(42)"
   ]
  },
  {
   "cell_type": "markdown",
   "metadata": {},
   "source": [
    "Then, we define our Grid. 10-Fold Cv will be used with Grid Search. Our grid only contains alpha values as tuned parameters. 30 different alpha values, between 0.0001 and 0.316 will be used in this grid search."
   ]
  },
  {
   "cell_type": "code",
   "execution_count": 104,
   "metadata": {},
   "outputs": [
    {
     "data": {
      "text/plain": [
       "GridSearchCV(cv=10, error_score='raise-deprecating',\n",
       "       estimator=Lasso(alpha=1.0, copy_X=True, fit_intercept=True, max_iter=100,\n",
       "   normalize=False, positive=False, precompute=False, random_state=0,\n",
       "   selection='cyclic', tol=0.0001, warm_start=False),\n",
       "       fit_params=None, iid='warn', n_jobs=None,\n",
       "       param_grid=[{'alpha': array([1.00000e-04, 1.32035e-04, 1.74333e-04, 2.30181e-04, 3.03920e-04,\n",
       "       4.01281e-04, 5.29832e-04, 6.99564e-04, 9.23671e-04, 1.21957e-03,\n",
       "       1.61026e-03, 2.12611e-03, 2.80722e-03, 3.70651e-03, 4.89390e-03,\n",
       "       6.46167e-03, 8.53168e-03, 1.12648e-02, 1.48735e-02, 1.96383e-02,\n",
       "       2.59294e-02, 3.42360e-02, 4.52035e-02, 5.96846e-02, 7.88046e-02,\n",
       "       1.04050e-01, 1.37382e-01, 1.81393e-01, 2.39503e-01, 3.16228e-01])}],\n",
       "       pre_dispatch='2*n_jobs', refit=False, return_train_score='warn',\n",
       "       scoring=None, verbose=0)"
      ]
     },
     "execution_count": 104,
     "metadata": {},
     "output_type": "execute_result"
    }
   ],
   "source": [
    "lasso = Lasso(random_state=0, max_iter=100)\n",
    "alphas = np.logspace(-4, -0.5, 30)\n",
    "tuned_parameters = [{'alpha': alphas}]\n",
    "n_folds = 10\n",
    "clf = GridSearchCV(lasso, tuned_parameters, cv=n_folds, refit=False)\n",
    "clf.fit(task4_train_features, task3_0_y_train)\n",
    "\n"
   ]
  },
  {
   "cell_type": "markdown",
   "metadata": {},
   "source": [
    "Then, we get the best alpha value, as the result of the grid search."
   ]
  },
  {
   "cell_type": "code",
   "execution_count": 105,
   "metadata": {},
   "outputs": [
    {
     "data": {
      "text/plain": [
       "{'alpha': 0.31622776601683794}"
      ]
     },
     "execution_count": 105,
     "metadata": {},
     "output_type": "execute_result"
    }
   ],
   "source": [
    "clf.best_params_"
   ]
  },
  {
   "cell_type": "markdown",
   "metadata": {},
   "source": [
    "Then, we fit Lasso with this result:"
   ]
  },
  {
   "cell_type": "code",
   "execution_count": 106,
   "metadata": {},
   "outputs": [
    {
     "data": {
      "text/plain": [
       "Lasso(alpha=0.316, copy_X=True, fit_intercept=True, max_iter=1000,\n",
       "   normalize=False, positive=False, precompute=False, random_state=None,\n",
       "   selection='cyclic', tol=0.0001, warm_start=False)"
      ]
     },
     "execution_count": 106,
     "metadata": {},
     "output_type": "execute_result"
    }
   ],
   "source": [
    "lasso = Lasso(alpha=0.316)\n",
    "lasso.fit(task4_train_features, task3_0_y_train)"
   ]
  },
  {
   "cell_type": "markdown",
   "metadata": {},
   "source": [
    "Then, we predict:"
   ]
  },
  {
   "cell_type": "code",
   "execution_count": 107,
   "metadata": {},
   "outputs": [],
   "source": [
    "t4_h0_pred = lasso.predict(task4_test_features)"
   ]
  },
  {
   "cell_type": "markdown",
   "metadata": {},
   "source": [
    "And calculate the Mape."
   ]
  },
  {
   "cell_type": "code",
   "execution_count": 108,
   "metadata": {},
   "outputs": [],
   "source": [
    "task4_hour0_mape = mape(task3_0_y_test, t4_h0_pred)"
   ]
  },
  {
   "cell_type": "markdown",
   "metadata": {},
   "source": [
    "Then, we complete this procedure for all hours."
   ]
  },
  {
   "cell_type": "code",
   "execution_count": 109,
   "metadata": {},
   "outputs": [
    {
     "data": {
      "text/plain": [
       "{'alpha': 0.31622776601683794}"
      ]
     },
     "execution_count": 109,
     "metadata": {},
     "output_type": "execute_result"
    }
   ],
   "source": [
    "lasso = Lasso(random_state=0, max_iter=100)\n",
    "alphas = np.logspace(-4, -0.5, 30)\n",
    "tuned_parameters = [{'alpha': alphas}]\n",
    "n_folds = 10\n",
    "clf = GridSearchCV(lasso, tuned_parameters, cv=n_folds, refit=False)\n",
    "clf.fit(task4_train_features, task3_1_y_train)\n",
    "clf.best_params_"
   ]
  },
  {
   "cell_type": "code",
   "execution_count": 110,
   "metadata": {},
   "outputs": [],
   "source": [
    "lasso = Lasso(alpha=0.316)\n",
    "lasso.fit(task4_train_features, task3_1_y_train)\n",
    "t4_h1_pred = lasso.predict(task4_test_features)\n",
    "task4_hour1_mape = mape(task3_1_y_test, t4_h1_pred)"
   ]
  },
  {
   "cell_type": "code",
   "execution_count": 111,
   "metadata": {},
   "outputs": [
    {
     "data": {
      "text/plain": [
       "{'alpha': 0.0001}"
      ]
     },
     "execution_count": 111,
     "metadata": {},
     "output_type": "execute_result"
    }
   ],
   "source": [
    "lasso = Lasso(random_state=0, max_iter=100)\n",
    "alphas = np.logspace(-4, -0.5, 30)\n",
    "tuned_parameters = [{'alpha': alphas}]\n",
    "n_folds = 10\n",
    "clf = GridSearchCV(lasso, tuned_parameters, cv=n_folds, refit=False)\n",
    "clf.fit(task4_train_features, task3_2_y_train)\n",
    "clf.best_params_"
   ]
  },
  {
   "cell_type": "code",
   "execution_count": 112,
   "metadata": {},
   "outputs": [],
   "source": [
    "lasso = Lasso(alpha=0.0001)\n",
    "lasso.fit(task4_train_features, task3_2_y_train)\n",
    "t4_h2_pred = lasso.predict(task4_test_features)\n",
    "task4_hour2_mape = mape(task3_2_y_test, t4_h2_pred)"
   ]
  },
  {
   "cell_type": "code",
   "execution_count": 113,
   "metadata": {},
   "outputs": [
    {
     "data": {
      "text/plain": [
       "{'alpha': 0.31622776601683794}"
      ]
     },
     "execution_count": 113,
     "metadata": {},
     "output_type": "execute_result"
    }
   ],
   "source": [
    "lasso = Lasso(random_state=0, max_iter=100)\n",
    "alphas = np.logspace(-4, -0.5, 30)\n",
    "tuned_parameters = [{'alpha': alphas}]\n",
    "n_folds = 10\n",
    "clf = GridSearchCV(lasso, tuned_parameters, cv=n_folds, refit=False)\n",
    "clf.fit(task4_train_features, task3_3_y_train)\n",
    "clf.best_params_"
   ]
  },
  {
   "cell_type": "code",
   "execution_count": 114,
   "metadata": {},
   "outputs": [],
   "source": [
    "lasso = Lasso(alpha=0.316)\n",
    "lasso.fit(task4_train_features, task3_3_y_train)\n",
    "t4_h3_pred = lasso.predict(task4_test_features)\n",
    "task4_hour3_mape = mape(task3_3_y_test, t4_h3_pred)"
   ]
  },
  {
   "cell_type": "code",
   "execution_count": 115,
   "metadata": {},
   "outputs": [
    {
     "data": {
      "text/plain": [
       "{'alpha': 0.31622776601683794}"
      ]
     },
     "execution_count": 115,
     "metadata": {},
     "output_type": "execute_result"
    }
   ],
   "source": [
    "lasso = Lasso(random_state=0, max_iter=100)\n",
    "alphas = np.logspace(-4, -0.5, 30)\n",
    "tuned_parameters = [{'alpha': alphas}]\n",
    "n_folds = 10\n",
    "clf = GridSearchCV(lasso, tuned_parameters, cv=n_folds, refit=False)\n",
    "clf.fit(task4_train_features, task3_4_y_train)\n",
    "clf.best_params_"
   ]
  },
  {
   "cell_type": "code",
   "execution_count": 116,
   "metadata": {},
   "outputs": [],
   "source": [
    "lasso = Lasso(alpha=0.316)\n",
    "lasso.fit(task4_train_features, task3_4_y_train)\n",
    "t4_h4_pred = lasso.predict(task4_test_features)\n",
    "task4_hour4_mape = mape(task3_4_y_test, t4_h4_pred)"
   ]
  },
  {
   "cell_type": "code",
   "execution_count": 117,
   "metadata": {},
   "outputs": [
    {
     "data": {
      "text/plain": [
       "{'alpha': 0.31622776601683794}"
      ]
     },
     "execution_count": 117,
     "metadata": {},
     "output_type": "execute_result"
    }
   ],
   "source": [
    "lasso = Lasso(random_state=0, max_iter=100)\n",
    "alphas = np.logspace(-4, -0.5, 30)\n",
    "tuned_parameters = [{'alpha': alphas}]\n",
    "n_folds = 10\n",
    "clf = GridSearchCV(lasso, tuned_parameters, cv=n_folds, refit=False)\n",
    "clf.fit(task4_train_features, task3_5_y_train)\n",
    "clf.best_params_"
   ]
  },
  {
   "cell_type": "code",
   "execution_count": 118,
   "metadata": {},
   "outputs": [],
   "source": [
    "lasso = Lasso(alpha=0.316)\n",
    "lasso.fit(task4_train_features, task3_5_y_train)\n",
    "t4_h5_pred = lasso.predict(task4_test_features)\n",
    "task4_hour5_mape = mape(task3_5_y_test, t4_h5_pred)"
   ]
  },
  {
   "cell_type": "code",
   "execution_count": 119,
   "metadata": {},
   "outputs": [
    {
     "data": {
      "text/plain": [
       "{'alpha': 0.31622776601683794}"
      ]
     },
     "execution_count": 119,
     "metadata": {},
     "output_type": "execute_result"
    }
   ],
   "source": [
    "lasso = Lasso(random_state=0, max_iter=100)\n",
    "alphas = np.logspace(-4, -0.5, 30)\n",
    "tuned_parameters = [{'alpha': alphas}]\n",
    "n_folds = 10\n",
    "clf = GridSearchCV(lasso, tuned_parameters, cv=n_folds, refit=False)\n",
    "clf.fit(task4_train_features, task3_6_y_train)\n",
    "clf.best_params_"
   ]
  },
  {
   "cell_type": "code",
   "execution_count": 120,
   "metadata": {},
   "outputs": [],
   "source": [
    "lasso = Lasso(alpha=0.316)\n",
    "lasso.fit(task4_train_features, task3_6_y_train)\n",
    "t4_h6_pred = lasso.predict(task4_test_features)\n",
    "task4_hour6_mape = mape(task3_6_y_test, t4_h6_pred)"
   ]
  },
  {
   "cell_type": "code",
   "execution_count": 121,
   "metadata": {},
   "outputs": [
    {
     "data": {
      "text/plain": [
       "{'alpha': 0.31622776601683794}"
      ]
     },
     "execution_count": 121,
     "metadata": {},
     "output_type": "execute_result"
    }
   ],
   "source": [
    "lasso = Lasso(random_state=0, max_iter=100)\n",
    "alphas = np.logspace(-4, -0.5, 30)\n",
    "tuned_parameters = [{'alpha': alphas}]\n",
    "n_folds = 10\n",
    "clf = GridSearchCV(lasso, tuned_parameters, cv=n_folds, refit=False)\n",
    "clf.fit(task4_train_features, task3_7_y_train)\n",
    "clf.best_params_"
   ]
  },
  {
   "cell_type": "code",
   "execution_count": 122,
   "metadata": {},
   "outputs": [],
   "source": [
    "lasso = Lasso(alpha=0.316)\n",
    "lasso.fit(task4_train_features, task3_7_y_train)\n",
    "t4_h7_pred = lasso.predict(task4_test_features)\n",
    "task4_hour7_mape = mape(task3_7_y_test, t4_h7_pred)"
   ]
  },
  {
   "cell_type": "code",
   "execution_count": 123,
   "metadata": {},
   "outputs": [
    {
     "data": {
      "text/plain": [
       "{'alpha': 0.31622776601683794}"
      ]
     },
     "execution_count": 123,
     "metadata": {},
     "output_type": "execute_result"
    }
   ],
   "source": [
    "lasso = Lasso(random_state=0, max_iter=100)\n",
    "alphas = np.logspace(-4, -0.5, 30)\n",
    "tuned_parameters = [{'alpha': alphas}]\n",
    "n_folds = 10\n",
    "clf = GridSearchCV(lasso, tuned_parameters, cv=n_folds, refit=False)\n",
    "clf.fit(task4_train_features, task3_8_y_train)\n",
    "clf.best_params_"
   ]
  },
  {
   "cell_type": "code",
   "execution_count": 124,
   "metadata": {},
   "outputs": [],
   "source": [
    "lasso = Lasso(alpha=0.316)\n",
    "lasso.fit(task4_train_features, task3_8_y_train)\n",
    "t4_h8_pred = lasso.predict(task4_test_features)\n",
    "task4_hour8_mape = mape(task3_8_y_test, t4_h8_pred)"
   ]
  },
  {
   "cell_type": "code",
   "execution_count": 125,
   "metadata": {},
   "outputs": [
    {
     "data": {
      "text/plain": [
       "{'alpha': 0.31622776601683794}"
      ]
     },
     "execution_count": 125,
     "metadata": {},
     "output_type": "execute_result"
    }
   ],
   "source": [
    "lasso = Lasso(random_state=0, max_iter=100)\n",
    "alphas = np.logspace(-4, -0.5, 30)\n",
    "tuned_parameters = [{'alpha': alphas}]\n",
    "n_folds = 10\n",
    "clf = GridSearchCV(lasso, tuned_parameters, cv=n_folds, refit=False)\n",
    "clf.fit(task4_train_features, task3_9_y_train)\n",
    "clf.best_params_"
   ]
  },
  {
   "cell_type": "code",
   "execution_count": 126,
   "metadata": {},
   "outputs": [],
   "source": [
    "lasso = Lasso(alpha=0.316)\n",
    "lasso.fit(task4_train_features, task3_9_y_train)\n",
    "t4_h9_pred = lasso.predict(task4_test_features)\n",
    "task4_hour9_mape = mape(task3_9_y_test, t4_h9_pred)"
   ]
  },
  {
   "cell_type": "code",
   "execution_count": 127,
   "metadata": {},
   "outputs": [
    {
     "data": {
      "text/plain": [
       "{'alpha': 0.31622776601683794}"
      ]
     },
     "execution_count": 127,
     "metadata": {},
     "output_type": "execute_result"
    }
   ],
   "source": [
    "lasso = Lasso(random_state=0, max_iter=100)\n",
    "alphas = np.logspace(-4, -0.5, 30)\n",
    "tuned_parameters = [{'alpha': alphas}]\n",
    "n_folds = 10\n",
    "clf = GridSearchCV(lasso, tuned_parameters, cv=n_folds, refit=False)\n",
    "clf.fit(task4_train_features, task3_10_y_train)\n",
    "clf.best_params_"
   ]
  },
  {
   "cell_type": "code",
   "execution_count": 128,
   "metadata": {},
   "outputs": [],
   "source": [
    "lasso = Lasso(alpha=0.316)\n",
    "lasso.fit(task4_train_features, task3_10_y_train)\n",
    "t4_h10_pred = lasso.predict(task4_test_features)\n",
    "task4_hour10_mape = mape(task3_10_y_test, t4_h10_pred)"
   ]
  },
  {
   "cell_type": "code",
   "execution_count": 129,
   "metadata": {},
   "outputs": [
    {
     "data": {
      "text/plain": [
       "{'alpha': 0.31622776601683794}"
      ]
     },
     "execution_count": 129,
     "metadata": {},
     "output_type": "execute_result"
    }
   ],
   "source": [
    "lasso = Lasso(random_state=0, max_iter=100)\n",
    "alphas = np.logspace(-4, -0.5, 30)\n",
    "tuned_parameters = [{'alpha': alphas}]\n",
    "n_folds = 10\n",
    "clf = GridSearchCV(lasso, tuned_parameters, cv=n_folds, refit=False)\n",
    "clf.fit(task4_train_features, task3_11_y_train)\n",
    "clf.best_params_"
   ]
  },
  {
   "cell_type": "code",
   "execution_count": 130,
   "metadata": {},
   "outputs": [],
   "source": [
    "lasso = Lasso(alpha=0.316)\n",
    "lasso.fit(task4_train_features, task3_11_y_train)\n",
    "t4_h11_pred = lasso.predict(task4_test_features)\n",
    "task4_hour11_mape = mape(task3_11_y_test, t4_h11_pred)"
   ]
  },
  {
   "cell_type": "code",
   "execution_count": 131,
   "metadata": {},
   "outputs": [
    {
     "data": {
      "text/plain": [
       "{'alpha': 0.31622776601683794}"
      ]
     },
     "execution_count": 131,
     "metadata": {},
     "output_type": "execute_result"
    }
   ],
   "source": [
    "lasso = Lasso(random_state=0, max_iter=100)\n",
    "alphas = np.logspace(-4, -0.5, 30)\n",
    "tuned_parameters = [{'alpha': alphas}]\n",
    "n_folds = 10\n",
    "clf = GridSearchCV(lasso, tuned_parameters, cv=n_folds, refit=False)\n",
    "clf.fit(task4_train_features, task3_12_y_train)\n",
    "clf.best_params_"
   ]
  },
  {
   "cell_type": "code",
   "execution_count": 132,
   "metadata": {},
   "outputs": [],
   "source": [
    "lasso = Lasso(alpha=0.316)\n",
    "lasso.fit(task4_train_features, task3_12_y_train)\n",
    "t4_h12_pred = lasso.predict(task4_test_features)\n",
    "task4_hour12_mape = mape(task3_12_y_test, t4_h12_pred)"
   ]
  },
  {
   "cell_type": "code",
   "execution_count": 133,
   "metadata": {},
   "outputs": [
    {
     "data": {
      "text/plain": [
       "{'alpha': 0.31622776601683794}"
      ]
     },
     "execution_count": 133,
     "metadata": {},
     "output_type": "execute_result"
    }
   ],
   "source": [
    "lasso = Lasso(random_state=0, max_iter=100)\n",
    "alphas = np.logspace(-4, -0.5, 30)\n",
    "tuned_parameters = [{'alpha': alphas}]\n",
    "n_folds = 10\n",
    "clf = GridSearchCV(lasso, tuned_parameters, cv=n_folds, refit=False)\n",
    "clf.fit(task4_train_features, task3_13_y_train)\n",
    "clf.best_params_"
   ]
  },
  {
   "cell_type": "code",
   "execution_count": 134,
   "metadata": {},
   "outputs": [],
   "source": [
    "lasso = Lasso(alpha=0.316)\n",
    "lasso.fit(task4_train_features, task3_13_y_train)\n",
    "t4_h13_pred = lasso.predict(task4_test_features)\n",
    "task4_hour13_mape = mape(task3_13_y_test, t4_h13_pred)"
   ]
  },
  {
   "cell_type": "code",
   "execution_count": 135,
   "metadata": {},
   "outputs": [
    {
     "data": {
      "text/plain": [
       "{'alpha': 0.31622776601683794}"
      ]
     },
     "execution_count": 135,
     "metadata": {},
     "output_type": "execute_result"
    }
   ],
   "source": [
    "lasso = Lasso(random_state=0, max_iter=100)\n",
    "alphas = np.logspace(-4, -0.5, 30)\n",
    "tuned_parameters = [{'alpha': alphas}]\n",
    "n_folds = 10\n",
    "clf = GridSearchCV(lasso, tuned_parameters, cv=n_folds, refit=False)\n",
    "clf.fit(task4_train_features, task3_14_y_train)\n",
    "clf.best_params_"
   ]
  },
  {
   "cell_type": "code",
   "execution_count": 136,
   "metadata": {},
   "outputs": [],
   "source": [
    "lasso = Lasso(alpha=0.316)\n",
    "lasso.fit(task4_train_features, task3_14_y_train)\n",
    "t4_h14_pred = lasso.predict(task4_test_features)\n",
    "task4_hour14_mape = mape(task3_14_y_test, t4_h14_pred)"
   ]
  },
  {
   "cell_type": "code",
   "execution_count": 137,
   "metadata": {},
   "outputs": [
    {
     "data": {
      "text/plain": [
       "{'alpha': 0.31622776601683794}"
      ]
     },
     "execution_count": 137,
     "metadata": {},
     "output_type": "execute_result"
    }
   ],
   "source": [
    "lasso = Lasso(random_state=0, max_iter=100)\n",
    "alphas = np.logspace(-4, -0.5, 30)\n",
    "tuned_parameters = [{'alpha': alphas}]\n",
    "n_folds = 10\n",
    "clf = GridSearchCV(lasso, tuned_parameters, cv=n_folds, refit=False)\n",
    "clf.fit(task4_train_features, task3_15_y_train)\n",
    "clf.best_params_"
   ]
  },
  {
   "cell_type": "code",
   "execution_count": 138,
   "metadata": {},
   "outputs": [],
   "source": [
    "lasso = Lasso(alpha=0.316)\n",
    "lasso.fit(task4_train_features, task3_15_y_train)\n",
    "t4_h15_pred = lasso.predict(task4_test_features)\n",
    "task4_hour15_mape = mape(task3_15_y_test, t4_h15_pred)"
   ]
  },
  {
   "cell_type": "code",
   "execution_count": 139,
   "metadata": {},
   "outputs": [
    {
     "data": {
      "text/plain": [
       "{'alpha': 0.31622776601683794}"
      ]
     },
     "execution_count": 139,
     "metadata": {},
     "output_type": "execute_result"
    }
   ],
   "source": [
    "lasso = Lasso(random_state=0, max_iter=100)\n",
    "alphas = np.logspace(-4, -0.5, 30)\n",
    "tuned_parameters = [{'alpha': alphas}]\n",
    "n_folds = 10\n",
    "clf = GridSearchCV(lasso, tuned_parameters, cv=n_folds, refit=False)\n",
    "clf.fit(task4_train_features, task3_16_y_train)\n",
    "clf.best_params_"
   ]
  },
  {
   "cell_type": "code",
   "execution_count": 140,
   "metadata": {},
   "outputs": [],
   "source": [
    "lasso = Lasso(alpha=0.316)\n",
    "lasso.fit(task4_train_features, task3_16_y_train)\n",
    "t4_h16_pred = lasso.predict(task4_test_features)\n",
    "task4_hour16_mape = mape(task3_16_y_test, t4_h16_pred)"
   ]
  },
  {
   "cell_type": "code",
   "execution_count": 141,
   "metadata": {},
   "outputs": [
    {
     "data": {
      "text/plain": [
       "{'alpha': 0.31622776601683794}"
      ]
     },
     "execution_count": 141,
     "metadata": {},
     "output_type": "execute_result"
    }
   ],
   "source": [
    "lasso = Lasso(random_state=0, max_iter=100)\n",
    "alphas = np.logspace(-4, -0.5, 30)\n",
    "tuned_parameters = [{'alpha': alphas}]\n",
    "n_folds = 10\n",
    "clf = GridSearchCV(lasso, tuned_parameters, cv=n_folds, refit=False)\n",
    "clf.fit(task4_train_features, task3_17_y_train)\n",
    "clf.best_params_"
   ]
  },
  {
   "cell_type": "code",
   "execution_count": 142,
   "metadata": {},
   "outputs": [],
   "source": [
    "lasso = Lasso(alpha=0.316)\n",
    "lasso.fit(task4_train_features, task3_17_y_train)\n",
    "t4_h17_pred = lasso.predict(task4_test_features)\n",
    "task4_hour17_mape = mape(task3_17_y_test, t4_h17_pred)"
   ]
  },
  {
   "cell_type": "code",
   "execution_count": 143,
   "metadata": {},
   "outputs": [
    {
     "data": {
      "text/plain": [
       "{'alpha': 0.31622776601683794}"
      ]
     },
     "execution_count": 143,
     "metadata": {},
     "output_type": "execute_result"
    }
   ],
   "source": [
    "lasso = Lasso(random_state=0, max_iter=100)\n",
    "alphas = np.logspace(-4, -0.5, 30)\n",
    "tuned_parameters = [{'alpha': alphas}]\n",
    "n_folds = 10\n",
    "clf = GridSearchCV(lasso, tuned_parameters, cv=n_folds, refit=False)\n",
    "clf.fit(task4_train_features, task3_18_y_train)\n",
    "clf.best_params_"
   ]
  },
  {
   "cell_type": "code",
   "execution_count": 144,
   "metadata": {},
   "outputs": [],
   "source": [
    "lasso = Lasso(alpha=0.316)\n",
    "lasso.fit(task4_train_features, task3_18_y_train)\n",
    "t4_h18_pred = lasso.predict(task4_test_features)\n",
    "task4_hour18_mape = mape(task3_18_y_test, t4_h18_pred)"
   ]
  },
  {
   "cell_type": "code",
   "execution_count": 145,
   "metadata": {},
   "outputs": [
    {
     "data": {
      "text/plain": [
       "{'alpha': 0.31622776601683794}"
      ]
     },
     "execution_count": 145,
     "metadata": {},
     "output_type": "execute_result"
    }
   ],
   "source": [
    "lasso = Lasso(random_state=0, max_iter=100)\n",
    "alphas = np.logspace(-4, -0.5, 30)\n",
    "tuned_parameters = [{'alpha': alphas}]\n",
    "n_folds = 10\n",
    "clf = GridSearchCV(lasso, tuned_parameters, cv=n_folds, refit=False)\n",
    "clf.fit(task4_train_features, task3_19_y_train)\n",
    "clf.best_params_"
   ]
  },
  {
   "cell_type": "code",
   "execution_count": 146,
   "metadata": {},
   "outputs": [],
   "source": [
    "lasso = Lasso(alpha=0.316)\n",
    "lasso.fit(task4_train_features, task3_19_y_train)\n",
    "t4_h19_pred = lasso.predict(task4_test_features)\n",
    "task4_hour19_mape = mape(task3_19_y_test, t4_h19_pred)"
   ]
  },
  {
   "cell_type": "code",
   "execution_count": 147,
   "metadata": {},
   "outputs": [
    {
     "data": {
      "text/plain": [
       "{'alpha': 0.31622776601683794}"
      ]
     },
     "execution_count": 147,
     "metadata": {},
     "output_type": "execute_result"
    }
   ],
   "source": [
    "lasso = Lasso(random_state=0, max_iter=100)\n",
    "alphas = np.logspace(-4, -0.5, 30)\n",
    "tuned_parameters = [{'alpha': alphas}]\n",
    "n_folds = 10\n",
    "clf = GridSearchCV(lasso, tuned_parameters, cv=n_folds, refit=False)\n",
    "clf.fit(task4_train_features, task3_20_y_train)\n",
    "clf.best_params_"
   ]
  },
  {
   "cell_type": "code",
   "execution_count": 148,
   "metadata": {},
   "outputs": [],
   "source": [
    "lasso = Lasso(alpha=0.316)\n",
    "lasso.fit(task4_train_features, task3_20_y_train)\n",
    "t4_h20_pred = lasso.predict(task4_test_features)\n",
    "task4_hour20_mape = mape(task3_20_y_test, t4_h20_pred)"
   ]
  },
  {
   "cell_type": "code",
   "execution_count": 149,
   "metadata": {},
   "outputs": [
    {
     "data": {
      "text/plain": [
       "{'alpha': 0.31622776601683794}"
      ]
     },
     "execution_count": 149,
     "metadata": {},
     "output_type": "execute_result"
    }
   ],
   "source": [
    "lasso = Lasso(random_state=0, max_iter=100)\n",
    "alphas = np.logspace(-4, -0.5, 30)\n",
    "tuned_parameters = [{'alpha': alphas}]\n",
    "n_folds = 10\n",
    "clf = GridSearchCV(lasso, tuned_parameters, cv=n_folds, refit=False)\n",
    "clf.fit(task4_train_features, task3_21_y_train)\n",
    "clf.best_params_"
   ]
  },
  {
   "cell_type": "code",
   "execution_count": 150,
   "metadata": {},
   "outputs": [],
   "source": [
    "lasso = Lasso(alpha=0.316)\n",
    "lasso.fit(task4_train_features, task3_21_y_train)\n",
    "t4_h21_pred = lasso.predict(task4_test_features)\n",
    "task4_hour21_mape = mape(task3_21_y_test, t4_h21_pred)"
   ]
  },
  {
   "cell_type": "code",
   "execution_count": 151,
   "metadata": {},
   "outputs": [
    {
     "data": {
      "text/plain": [
       "{'alpha': 0.31622776601683794}"
      ]
     },
     "execution_count": 151,
     "metadata": {},
     "output_type": "execute_result"
    }
   ],
   "source": [
    "lasso = Lasso(random_state=0, max_iter=100)\n",
    "alphas = np.logspace(-4, -0.5, 30)\n",
    "tuned_parameters = [{'alpha': alphas}]\n",
    "n_folds = 10\n",
    "clf = GridSearchCV(lasso, tuned_parameters, cv=n_folds, refit=False)\n",
    "clf.fit(task4_train_features, task3_22_y_train)\n",
    "clf.best_params_"
   ]
  },
  {
   "cell_type": "code",
   "execution_count": 152,
   "metadata": {},
   "outputs": [],
   "source": [
    "lasso = Lasso(alpha=0.316)\n",
    "lasso.fit(task4_train_features, task3_22_y_train)\n",
    "t4_h22_pred = lasso.predict(task4_test_features)\n",
    "task4_hour22_mape = mape(task3_22_y_test, t4_h22_pred)"
   ]
  },
  {
   "cell_type": "code",
   "execution_count": 153,
   "metadata": {},
   "outputs": [
    {
     "data": {
      "text/plain": [
       "{'alpha': 0.31622776601683794}"
      ]
     },
     "execution_count": 153,
     "metadata": {},
     "output_type": "execute_result"
    }
   ],
   "source": [
    "lasso = Lasso(random_state=0, max_iter=100)\n",
    "alphas = np.logspace(-4, -0.5, 30)\n",
    "tuned_parameters = [{'alpha': alphas}]\n",
    "n_folds = 10\n",
    "clf = GridSearchCV(lasso, tuned_parameters, cv=n_folds, refit=False)\n",
    "clf.fit(task4_train_features, task3_23_y_train)\n",
    "clf.best_params_"
   ]
  },
  {
   "cell_type": "code",
   "execution_count": 154,
   "metadata": {},
   "outputs": [],
   "source": [
    "lasso = Lasso(alpha=0.316)\n",
    "lasso.fit(task4_train_features, task3_23_y_train)\n",
    "t4_h23_pred = lasso.predict(task4_test_features)\n",
    "task4_hour23_mape = mape(task3_23_y_test, t4_h23_pred)"
   ]
  },
  {
   "cell_type": "markdown",
   "metadata": {},
   "source": [
    "Now, we will display MAPE values for each hour:"
   ]
  },
  {
   "cell_type": "code",
   "execution_count": 157,
   "metadata": {},
   "outputs": [
    {
     "name": "stdout",
     "output_type": "stream",
     "text": [
      "MAPE value for Hour 0 is: 1.7582411256030623\n",
      "MAPE value for Hour 1 is: 1.9692128110523615\n",
      "MAPE value for Hour 2 is: 1.9303587822490038\n",
      "MAPE value for Hour 3 is: 1.9162475818086702\n",
      "MAPE value for Hour 4 is: 1.7831603312191227\n",
      "MAPE value for Hour 5 is: 1.8277592770011175\n",
      "MAPE value for Hour 6 is: 1.95661445336648\n",
      "MAPE value for Hour 7 is: 2.56528733276803\n",
      "MAPE value for Hour 8 is: 3.505821099658456\n",
      "MAPE value for Hour 9 is: 4.076975624528041\n",
      "MAPE value for Hour 10 is: 4.309641897739683\n",
      "MAPE value for Hour 11 is: 4.600852671168208\n",
      "MAPE value for Hour 12 is: 4.896231848334835\n",
      "MAPE value for Hour 13 is: 4.965534124331114\n",
      "MAPE value for Hour 14 is: 5.1646562276493135\n",
      "MAPE value for Hour 15 is: 4.827571434855369\n",
      "MAPE value for Hour 16 is: 4.116734541557091\n",
      "MAPE value for Hour 17 is: 3.415670816564627\n",
      "MAPE value for Hour 18 is: 3.045720957120619\n",
      "MAPE value for Hour 19 is: 2.7882939028164593\n",
      "MAPE value for Hour 20 is: 2.493480466335319\n",
      "MAPE value for Hour 21 is: 2.519831747815294\n",
      "MAPE value for Hour 22 is: 2.3804913443285316\n",
      "MAPE value for Hour 23 is: 2.3935495809040255\n"
     ]
    }
   ],
   "source": [
    "print(\"MAPE value for Hour 0 is:\", task4_hour0_mape)\n",
    "print(\"MAPE value for Hour 1 is:\", task4_hour1_mape)\n",
    "print(\"MAPE value for Hour 2 is:\", task4_hour2_mape)\n",
    "print(\"MAPE value for Hour 3 is:\", task4_hour3_mape)\n",
    "print(\"MAPE value for Hour 4 is:\", task4_hour4_mape)\n",
    "print(\"MAPE value for Hour 5 is:\", task4_hour5_mape)\n",
    "print(\"MAPE value for Hour 6 is:\", task4_hour6_mape)\n",
    "print(\"MAPE value for Hour 7 is:\", task4_hour7_mape)\n",
    "print(\"MAPE value for Hour 8 is:\", task4_hour8_mape)\n",
    "print(\"MAPE value for Hour 9 is:\", task4_hour9_mape)\n",
    "print(\"MAPE value for Hour 10 is:\", task4_hour10_mape)\n",
    "print(\"MAPE value for Hour 11 is:\", task4_hour11_mape)\n",
    "print(\"MAPE value for Hour 12 is:\", task4_hour12_mape)\n",
    "print(\"MAPE value for Hour 13 is:\", task4_hour13_mape)\n",
    "print(\"MAPE value for Hour 14 is:\", task4_hour14_mape)\n",
    "print(\"MAPE value for Hour 15 is:\", task4_hour15_mape)\n",
    "print(\"MAPE value for Hour 16 is:\", task4_hour16_mape)\n",
    "print(\"MAPE value for Hour 17 is:\", task4_hour17_mape)\n",
    "print(\"MAPE value for Hour 18 is:\", task4_hour18_mape)\n",
    "print(\"MAPE value for Hour 19 is:\", task4_hour19_mape)\n",
    "print(\"MAPE value for Hour 20 is:\", task4_hour20_mape)\n",
    "print(\"MAPE value for Hour 21 is:\", task4_hour21_mape)\n",
    "print(\"MAPE value for Hour 22 is:\", task4_hour22_mape)\n",
    "print(\"MAPE value for Hour 23 is:\", task4_hour23_mape)"
   ]
  },
  {
   "cell_type": "markdown",
   "metadata": {},
   "source": [
    "It is also important to note that except hour 2, alpha coefficient is found as 0.316 for all cases. By looking at these results, we can say that For the first 7 hours of the day, below 2.5% MAPE values are obtained - which shows that method is pretty reasonable for these intervals.Between 8 and 18, the MAPE is above 3%, which can be interpreted that there is a noise in the system between these hours - these hours are also work hours -, thus method is not succesful for these hour. Nevertheless, among all the methods,this is the most succesful yet. Naive approach with 168-hour-lag values may seem more successful, but it is caused by the lack of test data, as the used test size is small."
   ]
  },
  {
   "cell_type": "markdown",
   "metadata": {},
   "source": [
    "# Task 6"
   ]
  },
  {
   "cell_type": "markdown",
   "metadata": {},
   "source": [
    "Now, we will build a box plot with everything we have obtained so far:"
   ]
  },
  {
   "cell_type": "code",
   "execution_count": 163,
   "metadata": {},
   "outputs": [
    {
     "data": {
      "text/plain": [
       "{'boxes': [<matplotlib.lines.Line2D at 0x1a19a331d0>],\n",
       " 'caps': [<matplotlib.lines.Line2D at 0x1a19a339b0>,\n",
       "  <matplotlib.lines.Line2D at 0x1a19a33cf8>],\n",
       " 'fliers': [<matplotlib.lines.Line2D at 0x1a19a1d3c8>],\n",
       " 'means': [],\n",
       " 'medians': [<matplotlib.lines.Line2D at 0x1a19a1d080>],\n",
       " 'whiskers': [<matplotlib.lines.Line2D at 0x1a19a33320>,\n",
       "  <matplotlib.lines.Line2D at 0x1a19a33668>]}"
      ]
     },
     "execution_count": 163,
     "metadata": {},
     "output_type": "execute_result"
    },
    {
     "data": {
      "image/png": "[encoded data removed]",
      "text/plain": [
       "<Figure size 432x288 with 1 Axes>"
      ]
     },
     "metadata": {
      "needs_background": "light"
     },
     "output_type": "display_data"
    }
   ],
   "source": [
    "import matplotlib as mpl \n",
    "import matplotlib.pyplot as plt \n",
    "\n",
    "data_to_plot = [task1_48_mape, task1_168_mape, task2_mape,task3_23_mape, task3_22_mape, \n",
    "               task3_21_mape, task3_20_mape, task3_19_mape, task3_18_mape, task3_17_mape,\n",
    "               task3_16_mape, task3_15_mape, task3_14_mape, task3_13_mape, task3_12_mape,\n",
    "               task3_11_mape, task3_10_mape, task3_9_mape, task3_8_mape, task3_7_mape,\n",
    "               task3_6_mape, task3_5_mape, task3_4_mape, task3_3_mape, task3_2_mape, task3_1_mape,\n",
    "               task3_0_mape, task4_hour0_mape, task4_hour1_mape, task4_hour2_mape, task4_hour3_mape,\n",
    "               task4_hour4_mape, task4_hour5_mape, task4_hour6_mape, task4_hour7_mape, task4_hour8_mape,\n",
    "               task4_hour9_mape, task4_hour10_mape, task4_hour11_mape, task4_hour12_mape, task4_hour13_mape,\n",
    "               task4_hour14_mape, task4_hour15_mape, task4_hour16_mape, task4_hour17_mape, task4_hour18_mape,\n",
    "               task4_hour19_mape, task4_hour20_mape, task4_hour21_mape, task4_hour22_mape, task4_hour23_mape]\n",
    "\n",
    "fig1, ax1 = plt.subplots()\n",
    "ax1.set_title('MAPE Plot')\n",
    "ax1.boxplot(data_to_plot)"
   ]
  },
  {
   "cell_type": "markdown",
   "metadata": {},
   "source": [
    "When we examine the plot, we observe that most of the models lie between 4.5% and 2.5% MAPE values. In terms of better accuracy, there are several models that achieve the MAPE within the proximity of 2%. However, there are also extreme outliers when we examine the plot as several models have their MAPE values as 8% and 12%. Median value of the models is 3.8%."
   ]
  }
 ],
 "metadata": {
  "kernelspec": {
   "display_name": "Python 3",
   "language": "python",
   "name": "python3"
  },
  "language_info": {
   "codemirror_mode": {
    "name": "ipython",
    "version": 3
   },
   "file_extension": ".py",
   "mimetype": "text/x-python",
   "name": "python",
   "nbconvert_exporter": "python",
   "pygments_lexer": "ipython3",
   "version": "3.5.4"
  }
 },
 "nbformat": 4,
 "nbformat_minor": 4
}
